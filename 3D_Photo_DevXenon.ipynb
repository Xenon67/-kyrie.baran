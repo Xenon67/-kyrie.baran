{
  "nbformat": 4,
  "nbformat_minor": 0,
  "metadata": {
    "colab": {
      "name": "3D Photo / DevXenon.ipynb",
      "provenance": [],
      "collapsed_sections": [],
      "authorship_tag": "ABX9TyPDuYXJcc/ksajy2ZG5uCqR",
      "include_colab_link": true
    },
    "kernelspec": {
      "name": "python3",
      "display_name": "Python 3"
    },
    "accelerator": "GPU"
  },
  "cells": [
    {
      "cell_type": "markdown",
      "metadata": {
        "id": "view-in-github",
        "colab_type": "text"
      },
      "source": [
        "<a href=\"https://colab.research.google.com/github/Xenon67/-kyrie.baran/blob/master/3D_Photo_DevXenon.ipynb\" target=\"_parent\"><img src=\"https://colab.research.google.com/assets/colab-badge.svg\" alt=\"Open In Colab\"/></a>"
      ]
    },
    {
      "cell_type": "markdown",
      "metadata": {
        "id": "wNBO381SxpoR"
      },
      "source": [
        "#FORKED BY XENON \n",
        "### Kodlama: Xenon\n",
        "###### Coding: Xenon\n",
        "### Yardımıcı AI: Eva by Xenon\n",
        "###### Assistant AI: Eva by Xenon\n",
        "###### Original Repo: https://github.com/vt-vl-lab/3d-photo-inpainting"
      ]
    },
    {
      "cell_type": "code",
      "metadata": {
        "id": "SLpfZpLlV3cT"
      },
      "source": [
        "!pip install conda \n",
        "!easy_install conda\n",
        "!wget https://conda.io/miniconda.html\n",
        "!conda create -n 3DPhotoCreator python=3.7 anaconda\n",
        "!conda activate 3DPhotoCreator"
      ],
      "execution_count": null,
      "outputs": []
    },
    {
      "cell_type": "code",
      "metadata": {
        "id": "UTR8kACEWrmT"
      },
      "source": [
        "!git clone https://github.com/vt-vl-lab/3d-photo-inpainting.git\n",
        "!cd 3d-photo-inpainting"
      ],
      "execution_count": null,
      "outputs": []
    },
    {
      "cell_type": "code",
      "metadata": {
        "id": "soehMKBFXFFp"
      },
      "source": [
        "!cd 3d-photo-inpainting\n",
        "!ls"
      ],
      "execution_count": null,
      "outputs": []
    },
    {
      "cell_type": "code",
      "metadata": {
        "id": "B_ZR_2mUXg4g"
      },
      "source": [
        "cd 3d-photo-inpainting"
      ],
      "execution_count": null,
      "outputs": []
    },
    {
      "cell_type": "code",
      "metadata": {
        "id": "j2x0LADYW4xw"
      },
      "source": [
        "!chmod +x download.sh\n",
        "!./download.sh"
      ],
      "execution_count": null,
      "outputs": []
    },
    {
      "cell_type": "code",
      "metadata": {
        "id": "8hW4VENfa_HE"
      },
      "source": [
        "!pip install bootstrapped --no-deps"
      ],
      "execution_count": null,
      "outputs": []
    },
    {
      "cell_type": "code",
      "metadata": {
        "id": "j3QVGtXMblEb"
      },
      "source": [
        "!which python # should return /usr/local/bin/python\n",
        "!python --version\n",
        "!echo $PYTHONPATH"
      ],
      "execution_count": null,
      "outputs": []
    },
    {
      "cell_type": "code",
      "metadata": {
        "id": "53tChYkCb0fp"
      },
      "source": [
        "%env PYTHONPATH="
      ],
      "execution_count": null,
      "outputs": []
    },
    {
      "cell_type": "code",
      "metadata": {
        "id": "Qo5ULbIpb6uK"
      },
      "source": [
        "%%bash\n",
        "MINICONDA_INSTALLER_SCRIPT=Miniconda3-4.5.4-Linux-x86_64.sh\n",
        "MINICONDA_PREFIX=/usr/local\n",
        "wget https://repo.continuum.io/miniconda/$MINICONDA_INSTALLER_SCRIPT\n",
        "chmod +x $MINICONDA_INSTALLER_SCRIPT\n",
        "./$MINICONDA_INSTALLER_SCRIPT -b -f -p $MINICONDA_PREFIX"
      ],
      "execution_count": null,
      "outputs": []
    },
    {
      "cell_type": "code",
      "metadata": {
        "id": "2gJUp2czcLWp"
      },
      "source": [
        "!which conda # should return /usr/local/bin/conda\n",
        "!conda --version # should return 4.5.4\n",
        "!which python # still returns /usr/local/bin/python\n",
        "!python --version # now returns Python 3.6.5 :: Anaconda, Inc."
      ],
      "execution_count": null,
      "outputs": []
    },
    {
      "cell_type": "markdown",
      "metadata": {
        "id": "ShHkYxSjmbXL"
      },
      "source": [
        " ### SIRADAKI KOD 3-10DK SÜREBİLİR\n",
        " ### THIS CELL TAKES 3-10 MINUTE\n",
        "####Toplamda 3GB / 400Mbps\n",
        "####Total 3GB / 400Mbps"
      ]
    },
    {
      "cell_type": "code",
      "metadata": {
        "id": "IwvQ69W8Xrfj"
      },
      "source": [
        "!pip install -r requirements.txt\n",
        "!conda install pytorch==1.4.0 torchvision==0.5.0 cudatoolkit==10.1.243 -c pytorch --yes"
      ],
      "execution_count": null,
      "outputs": []
    },
    {
      "cell_type": "markdown",
      "metadata": {
        "id": "kT_adC0SsT9g"
      },
      "source": [
        "#### LÜTFEN .JPG FORMATINDA RESİM YÜKLEYİN\n",
        "#### PLEASE UPLOAD IMAGES IN .JPG FORMAT"
      ]
    },
    {
      "cell_type": "code",
      "metadata": {
        "id": "oJrYfFapncjG"
      },
      "source": [
        "from google.colab import files\n",
        "uploaded = files.upload()"
      ],
      "execution_count": null,
      "outputs": []
    },
    {
      "cell_type": "markdown",
      "metadata": {
        "id": "0MhJfpQbqKEv"
      },
      "source": [
        " # PC İÇİN\n",
        "#### Sol taraftaki dosya simgesine tıklayın. Ardından 3d-photo-inpainting klasörünü açın. Yüklediğiniz fotoğraf orda gözükecektir. Onun yanındaki 3 noktaya basarak 'copy path' seçeneğine basın. Ardından alttaki '{resim yolu}' yazan yeri silip kopyaladığınız yolu buraya yapıştırın.\n",
        "# MOBİL İÇİN \n",
        "#### Üst sol tarafta 3 çizgi işaretine tıklayın. Ardından 'show file browser' butonuna tıklayıp açın. Açılan sayfada '3d-photo-inpanting' dosyasına basın. Ardından yüklediğiniz fotoğrafın yanındaki 3 noktaya basarak 'copy path' e basın. Ardından alttaki '{resim yolu}' yazan yeri silip kopyaladığınız yolu buraya yapıştırın.\n",
        "#ENGLISH VERSION\n",
        "## FOR PC\n",
        "#####Click on the file icon on the left. Then open the 3d-photo-inpainting folder. The photo you uploaded will appear there. Press the 3 dots next to it and press the 'copy path' option. Then delete the place where it says '{image path}' at the bottom and paste the path you copied here.\n",
        "## FOR MOBILE \n",
        "#####Click on the 3 lines on the upper left. Then click the 'show file browser' button and open it. Press the '3d-photo-inpanting' file on the page that opens. Then press the 'copy path' by pressing the 3 dots next to the photo you uploaded. Then delete the place where it says '{image path}' at the bottom and paste the path you copied here."
      ]
    },
    {
      "cell_type": "code",
      "metadata": {
        "id": "95OjMhEcY0R_"
      },
      "source": [
        "!cp {image path} image/"
      ],
      "execution_count": null,
      "outputs": []
    },
    {
      "cell_type": "markdown",
      "metadata": {
        "id": "X47gHUcoss--"
      },
      "source": [
        "#### ALTTAKİ İŞLEM 1-2 DAKİKA SÜRECEKTİR\n",
        "#### THIS CELL TAKES 1-2 MINUTE"
      ]
    },
    {
      "cell_type": "code",
      "metadata": {
        "id": "j8gKWtizZh0T"
      },
      "source": [
        "!pip install vispy\n",
        "!pip install transforms3d\n",
        "!pip install spicy\n",
        "!pip install tqdm\n",
        "!pip install pyyaml\n",
        "!pip install networkx\n",
        "!pip install matplotlib\n",
        "!pip install ipykernel\n",
        "!pip install numpy\n",
        "!pip list or conda list\n",
        "!pip install opencv-python\n",
        "!pip install cv2\n",
        "!pip install moviepy\n",
        "!pip install skimage\n",
        "!pip install scikit-image\n",
        "!pip3 install networkx==2.3"
      ],
      "execution_count": null,
      "outputs": []
    },
    {
      "cell_type": "markdown",
      "metadata": {
        "id": "z8X4BC1Xs88K"
      },
      "source": [
        "## Bu İşlem 3-8 Dakika Sürecektir\n",
        "## This Cell Takes 3-8 Minute"
      ]
    },
    {
      "cell_type": "code",
      "metadata": {
        "id": "dwruTahBZddT"
      },
      "source": [
        "!python main.py --config argument.yml"
      ],
      "execution_count": null,
      "outputs": []
    },
    {
      "cell_type": "markdown",
      "metadata": {
        "id": "YtKhtXB2v3PE"
      },
      "source": [
        "### İşlem tamamlandıktan sonra \n",
        "##PC İÇİN \n",
        "##### Sol taraftaki dosya simgesine tıklayın. Ardından '3d-photo-inpainting' klasörünü açın. Ardından 'videos' klasörünü açın. Sonuçları indirmek için videonun yanındaki 3 noktaya basarak 'download' seçeneğini seçin.\n",
        "##MOBİL İÇİN\n",
        "##### Üst sol tarafta 3 çizgi işaretine tıklayın. Ardından 'show file browser' butonuna tıklayıp açın. Açılan sayfada 'videos' klasörünü açın. Sonuçları indirmek için videonun yanındaki 3 noktaya basarak 'download' seçeneğini seçin\n",
        "#ENGLISH VERSION\n",
        "##FOR PC\n",
        "#####Click on the file icon on the left. Then open the '3d-photo-inpainting' folder. Then open the 'videos' folder. To download the results, select 'download' by pressing the 3 dots next to the video.\n",
        "##FOR MOBILE\n",
        "#####Click on the 3 lines on the upper left. Then click the 'show file browser' button and open it. Open the 'videos' folder on the page that opens. Select the 'download' option by pressing the 3 dots next to the video to download the results."
      ]
    }
  ]
}
